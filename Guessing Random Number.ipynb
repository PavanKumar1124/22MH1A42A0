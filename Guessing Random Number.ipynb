{
  "nbformat": 4,
  "nbformat_minor": 0,
  "metadata": {
    "colab": {
      "provenance": [],
      "authorship_tag": "ABX9TyNEMnnKcKM4A47BWnYkINeS",
      "include_colab_link": true
    },
    "kernelspec": {
      "name": "python3",
      "display_name": "Python 3"
    },
    "language_info": {
      "name": "python"
    }
  },
  "cells": [
    {
      "cell_type": "markdown",
      "metadata": {
        "id": "view-in-github",
        "colab_type": "text"
      },
      "source": [
        "<a href=\"https://colab.research.google.com/github/PavanKumar1124/22MH1A42A0/blob/main/Guessing%20Random%20Number.ipynb\" target=\"_parent\"><img src=\"https://colab.research.google.com/assets/colab-badge.svg\" alt=\"Open In Colab\"/></a>"
      ]
    },
    {
      "cell_type": "markdown",
      "source": [
        "Password Generator"
      ],
      "metadata": {
        "id": "ROrkdqYe6uMv"
      }
    },
    {
      "cell_type": "markdown",
      "source": [
        "Guessing Random Number"
      ],
      "metadata": {
        "id": "q1nwA31x8XIT"
      }
    },
    {
      "cell_type": "code",
      "source": [
        "import random\n",
        "\n",
        "def guess_the_number():\n",
        "    \"\"\"Plays a number guessing game with the user.\"\"\"\n",
        "\n",
        "    secret_number = random.randint(1, 100)\n",
        "    guesses_left = 7\n",
        "    print(\"Welcome to the Number Guessing Game!\")\n",
        "    print(\"I'm thinking of a number between 1 and 100.\")\n",
        "\n",
        "    while guesses_left > 0:\n",
        "        try:\n",
        "            guess = int(input(f\"You have {guesses_left} guesses left.  Take a guess: \"))\n",
        "        except ValueError:\n",
        "            print(\"Invalid input. Please enter a number.\")\n",
        "            continue\n",
        "\n",
        "        if guess < secret_number:\n",
        "            print(\"Too low!\")\n",
        "        elif guess > secret_number:\n",
        "            print(\"Too high!\")\n",
        "        else:\n",
        "            print(f\"Congratulations! You guessed the number in {7 - guesses_left} tries!\")\n",
        "            return\n",
        "\n",
        "        guesses_left -= 1\n",
        "\n",
        "    print(f\"You ran out of guesses. The number was {secret_number}.\")\n",
        "\n",
        "\n",
        "if __name__ == \"__main__\":\n",
        "    guess_the_number()\n"
      ],
      "metadata": {
        "colab": {
          "base_uri": "https://localhost:8080/"
        },
        "id": "Isnge8j-7Yva",
        "outputId": "b6d47665-2da1-4cbb-c50a-c62fac3de2cd"
      },
      "execution_count": null,
      "outputs": [
        {
          "output_type": "stream",
          "name": "stdout",
          "text": [
            "Welcome to the Number Guessing Game!\n",
            "I'm thinking of a number between 1 and 100.\n",
            "You have 7 guesses left.  Take a guess: 24\n",
            "Too low!\n",
            "You have 6 guesses left.  Take a guess: 37\n",
            "Too low!\n",
            "You have 5 guesses left.  Take a guess: 5\n",
            "Too low!\n",
            "You have 4 guesses left.  Take a guess: 18\n",
            "Too low!\n",
            "You have 3 guesses left.  Take a guess: 7\n",
            "Too low!\n",
            "You have 2 guesses left.  Take a guess: 45\n",
            "Too low!\n",
            "You have 1 guesses left.  Take a guess: 3\n",
            "Too low!\n",
            "You ran out of guesses. The number was 54.\n"
          ]
        }
      ]
    }
  ]
}