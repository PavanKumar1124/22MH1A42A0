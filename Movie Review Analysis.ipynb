{
  "nbformat": 4,
  "nbformat_minor": 0,
  "metadata": {
    "colab": {
      "provenance": [],
      "authorship_tag": "ABX9TyMMRQswngrEGhup+p2wFXvE",
      "include_colab_link": true
    },
    "kernelspec": {
      "name": "python3",
      "display_name": "Python 3"
    },
    "language_info": {
      "name": "python"
    }
  },
  "cells": [
    {
      "cell_type": "markdown",
      "metadata": {
        "id": "view-in-github",
        "colab_type": "text"
      },
      "source": [
        "<a href=\"https://colab.research.google.com/github/PavanKumar1124/22MH1A42A0/blob/main/Movie%20Review%20Analysis.ipynb\" target=\"_parent\"><img src=\"https://colab.research.google.com/assets/colab-badge.svg\" alt=\"Open In Colab\"/></a>"
      ]
    },
    {
      "cell_type": "code",
      "execution_count": 1,
      "metadata": {
        "colab": {
          "base_uri": "https://localhost:8080/"
        },
        "id": "Njg71n2t-k1I",
        "outputId": "dca7cbbb-343b-4351-b442-6c13735dc410"
      },
      "outputs": [
        {
          "output_type": "stream",
          "name": "stdout",
          "text": [
            "Requirement already satisfied: textblob in /usr/local/lib/python3.11/dist-packages (0.19.0)\n",
            "Requirement already satisfied: matplotlib in /usr/local/lib/python3.11/dist-packages (3.10.0)\n",
            "Requirement already satisfied: nltk>=3.9 in /usr/local/lib/python3.11/dist-packages (from textblob) (3.9.1)\n",
            "Requirement already satisfied: contourpy>=1.0.1 in /usr/local/lib/python3.11/dist-packages (from matplotlib) (1.3.1)\n",
            "Requirement already satisfied: cycler>=0.10 in /usr/local/lib/python3.11/dist-packages (from matplotlib) (0.12.1)\n",
            "Requirement already satisfied: fonttools>=4.22.0 in /usr/local/lib/python3.11/dist-packages (from matplotlib) (4.56.0)\n",
            "Requirement already satisfied: kiwisolver>=1.3.1 in /usr/local/lib/python3.11/dist-packages (from matplotlib) (1.4.8)\n",
            "Requirement already satisfied: numpy>=1.23 in /usr/local/lib/python3.11/dist-packages (from matplotlib) (1.26.4)\n",
            "Requirement already satisfied: packaging>=20.0 in /usr/local/lib/python3.11/dist-packages (from matplotlib) (24.2)\n",
            "Requirement already satisfied: pillow>=8 in /usr/local/lib/python3.11/dist-packages (from matplotlib) (11.1.0)\n",
            "Requirement already satisfied: pyparsing>=2.3.1 in /usr/local/lib/python3.11/dist-packages (from matplotlib) (3.2.1)\n",
            "Requirement already satisfied: python-dateutil>=2.7 in /usr/local/lib/python3.11/dist-packages (from matplotlib) (2.8.2)\n",
            "Requirement already satisfied: click in /usr/local/lib/python3.11/dist-packages (from nltk>=3.9->textblob) (8.1.8)\n",
            "Requirement already satisfied: joblib in /usr/local/lib/python3.11/dist-packages (from nltk>=3.9->textblob) (1.4.2)\n",
            "Requirement already satisfied: regex>=2021.8.3 in /usr/local/lib/python3.11/dist-packages (from nltk>=3.9->textblob) (2024.11.6)\n",
            "Requirement already satisfied: tqdm in /usr/local/lib/python3.11/dist-packages (from nltk>=3.9->textblob) (4.67.1)\n",
            "Requirement already satisfied: six>=1.5 in /usr/local/lib/python3.11/dist-packages (from python-dateutil>=2.7->matplotlib) (1.17.0)\n"
          ]
        }
      ],
      "source": [
        "!pip install textblob matplotlib\n"
      ]
    },
    {
      "cell_type": "code",
      "source": [
        "# Install the TextBlob library if you haven't already\n",
        "!pip install textblob\n",
        "\n",
        "# Import the necessary library\n",
        "from textblob import TextBlob\n",
        "\n",
        "# List of movie reviews\n",
        "reviews = [\n",
        "    \"Absolutely fantastic movie! The storyline was gripping and the acting was top-notch.\",\n",
        "    \"This movie was a waste of time. Poor plot and terrible acting.\",\n",
        "    \"The movie was okay, not great but not bad either.\",\n",
        "    \"An amazing film with a heartfelt story and brilliant performances.\",\n",
        "    \"Terrible movie. I wouldn't recommend it to anyone.\"\n",
        "]\n",
        "\n",
        "# Function to analyze sentiment of reviews and provide ratings\n",
        "def analyze_and_rate_reviews(reviews):\n",
        "    sentiments = {}\n",
        "    ratings = {}\n",
        "    for i, review in enumerate(reviews):\n",
        "        analysis = TextBlob(review)\n",
        "        polarity = analysis.sentiment.polarity\n",
        "        if polarity > 0:\n",
        "            sentiments[f'Review {i+1}'] = 'Positive'\n",
        "            ratings[f'Review {i+1}'] = round(polarity * 5, 1)  # Rating out of 5\n",
        "        elif polarity == 0:\n",
        "            sentiments[f'Review {i+1}'] = 'Neutral'\n",
        "            ratings[f'Review {i+1}'] = 2.5  # Neutral rating\n",
        "        else:\n",
        "            sentiments[f'Review {i+1}'] = 'Negative'\n",
        "            ratings[f'Review {i+1}'] = round((1 + polarity) * 2.5, 1)  # Adjust for negative polarity\n",
        "    return sentiments, ratings\n",
        "\n",
        "# Analyze sentiments and rate the reviews\n",
        "review_sentiments, review_ratings = analyze_and_rate_reviews(reviews)\n",
        "\n",
        "# Print the results\n",
        "for review, sentiment in review_sentiments.items():\n",
        "    print(f\"{review}: Sentiment - {sentiment}, Rating - {review_ratings[review]}/5\")\n",
        "\n",
        "# Visualize the results using a bar graph\n",
        "import matplotlib.pyplot as plt\n",
        "\n",
        "# Prepare data for visualization\n",
        "labels = list(review_ratings.keys())\n",
        "ratings = list(review_ratings.values())\n",
        "\n",
        "# Plotting the ratings\n",
        "plt.bar(labels, ratings, color=['lightgreen', 'lightcoral', 'lightgray', 'lightgreen', 'lightcoral'])\n",
        "plt.xlabel('Reviews')\n",
        "plt.ylabel('Ratings')\n",
        "plt.title('Sentiment Analysis and Ratings of Movie Reviews')\n",
        "plt.ylim(0, 5)\n",
        "plt.show()\n"
      ],
      "metadata": {
        "colab": {
          "base_uri": "https://localhost:8080/",
          "height": 663
        },
        "id": "Ne7H2pch-uw0",
        "outputId": "e494ea38-dfee-4bf9-a8a1-3d6b2b508921"
      },
      "execution_count": 3,
      "outputs": [
        {
          "output_type": "stream",
          "name": "stdout",
          "text": [
            "Requirement already satisfied: textblob in /usr/local/lib/python3.11/dist-packages (0.19.0)\n",
            "Requirement already satisfied: nltk>=3.9 in /usr/local/lib/python3.11/dist-packages (from textblob) (3.9.1)\n",
            "Requirement already satisfied: click in /usr/local/lib/python3.11/dist-packages (from nltk>=3.9->textblob) (8.1.8)\n",
            "Requirement already satisfied: joblib in /usr/local/lib/python3.11/dist-packages (from nltk>=3.9->textblob) (1.4.2)\n",
            "Requirement already satisfied: regex>=2021.8.3 in /usr/local/lib/python3.11/dist-packages (from nltk>=3.9->textblob) (2024.11.6)\n",
            "Requirement already satisfied: tqdm in /usr/local/lib/python3.11/dist-packages (from nltk>=3.9->textblob) (4.67.1)\n",
            "Review 1: Sentiment - Positive, Rating - 2.5/5\n",
            "Review 2: Sentiment - Negative, Rating - 1.5/5\n",
            "Review 3: Sentiment - Positive, Rating - 0.7/5\n",
            "Review 4: Sentiment - Positive, Rating - 2.5/5\n",
            "Review 5: Sentiment - Negative, Rating - 0.0/5\n"
          ]
        },
        {
          "output_type": "display_data",
          "data": {
            "text/plain": [
              "<Figure size 640x480 with 1 Axes>"
            ],
            "image/png": "[encoded data removed]"
          },
          "metadata": {}
        }
      ]
    }
  ]
}